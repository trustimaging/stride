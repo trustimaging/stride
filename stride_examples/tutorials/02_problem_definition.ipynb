{
 "cells": [
  {
   "cell_type": "markdown",
   "id": "comparable-nicholas",
   "metadata": {},
   "source": [
    "# Problem definition\n",
    "\n",
    "In addition to providing abstractions for solving optimisation problems, Stride introduces a series of utilities for users to specify the characteristics of the problem being solved, such as the physical properties of the medium or the sequence in which transducers are used.\n",
    "\n",
    "## Spatiotemporal grid\n",
    "\n",
    "In Stride, the problem is first defined over a spatiotemporal grid, which determines the spatial and temporal bounds of the problem and their discretisation. "
   ]
  },
  {
   "cell_type": "code",
   "execution_count": 1,
   "id": "silver-compilation",
   "metadata": {},
   "outputs": [],
   "source": [
    "from stride import Space, Time, Grid\n",
    "\n",
    "space = Space(shape=(100, 100), spacing=0.5e-3)\n",
    "time = Time(start=0.0e-6, step=0.1e-6, num=1000)\n",
    "\n",
    "grid = Grid(space, time)"
   ]
  },
  {
   "cell_type": "markdown",
   "id": "smart-florist",
   "metadata": {},
   "source": [
    "It is important to note that Stride considers all variables to be written in SI units. Currently, we support discretisations over rectangular grids, but other types of meshes could be introduced in the future.\n",
    "\n",
    "## Medium\n",
    "\n",
    "On this spatiotemporal mesh, we define a series of grid-aware data containers, which include scalar and vector fields, and time traces. These data containers are subclasses of ``stride.Variable``.\n",
    "\n",
    "Based on this, we can define a medium, a ``stride.Medium`` object, a collection of fields that determine the physical properties in the region of interest. For instance, the medium could be defined by two ``stride.ScalarField`` objects containing the spatial distribution of longitudinal speed of sound and density."
   ]
  },
  {
   "cell_type": "code",
   "execution_count": 2,
   "id": "anticipated-window",
   "metadata": {},
   "outputs": [],
   "source": [
    "from stride import Medium, ScalarField\n",
    "\n",
    "medium = Medium(grid=grid)\n",
    "\n",
    "medium.add(ScalarField(name=\"vp\", grid=grid))\n",
    "medium.add(ScalarField(name=\"rho\", grid=grid))\n",
    "\n",
    "medium.vp.fill(1500.)\n",
    "medium.rho.fill(1000.)"
   ]
  },
  {
   "cell_type": "markdown",
   "id": "operational-jefferson",
   "metadata": {},
   "source": [
    "## Transducers and geometry\n",
    "\n",
    "Next, we can define the transducers, the computational representation of the physical devices that are used to emit and receive sound, characterised by aspects such as their geometry and impulse response. \n",
    "\n",
    "These transducers are then located within the spatial grid by defining a series of locations in a ``stride.Geometry``. In the next cell we instantiate some ``stride.Transducer`` objects and then add them to a corresponding ``stride.Geometry``."
   ]
  },
  {
   "cell_type": "code",
   "execution_count": 3,
   "id": "female-facing",
   "metadata": {},
   "outputs": [],
   "source": [
    "from stride import PointTransducer, Transducers, Geometry\n",
    "\n",
    "# Create some transducers\n",
    "transducer_0 = PointTransducer(id=0, grid=grid)\n",
    "transducer_1 = PointTransducer(id=1, grid=grid)\n",
    "\n",
    "# and add them to a container\n",
    "transducers = Transducers(grid=grid)\n",
    "transducers.add(transducer_0)\n",
    "transducers.add(transducer_1)\n",
    "\n",
    "# Create a geometry\n",
    "geometry = Geometry(transducers=transducers, grid=grid)\n",
    "\n",
    "# and add the locations of the transducers within the geometry\n",
    "geometry.add(id=0, transducer=transducer_0, coordinates=[10.0e-3, 10.0e-3])\n",
    "geometry.add(id=1, transducer=transducer_1, coordinates=[20.0e-3, 10.0e-3])"
   ]
  },
  {
   "cell_type": "markdown",
   "id": "imperial-while",
   "metadata": {},
   "source": [
    "## Acquisition sequence\n",
    "\n",
    "Finally, we can specify an acquisition sequence within a ``stride.Acquisitions`` object. \n",
    "\n",
    "The acquisition sequence is composed of shots (``stride.Shot`` objects), where each shot determines which transducers at which locations act as sources and/or receivers at any given time during the acquisition process. The shots also contain information about the wavelets used to excite the sources and the data observed by the corresponding receivers if this information is available."
   ]
  },
  {
   "cell_type": "code",
   "execution_count": 4,
   "id": "brazilian-craft",
   "metadata": {},
   "outputs": [],
   "source": [
    "from stride import Shot, Acquisitions\n",
    "from stride.utils import wavelets\n",
    "\n",
    "loc_0 = geometry.get(0)\n",
    "loc_1 = geometry.get(1)\n",
    "\n",
    "# Create a shot\n",
    "shot = Shot(id=0, \n",
    "            sources=[loc_0], \n",
    "            receivers=[loc_0, loc_1],\n",
    "            geometry=geometry,\n",
    "            grid=grid)\n",
    "\n",
    "# add a wavelet to it\n",
    "f_centre = 0.5e6\n",
    "n_cycles = 3\n",
    "shot.wavelets.data[0] = wavelets.tone_burst(f_centre, n_cycles, time.num, time.step)\n",
    "\n",
    "# and add it to the acquisition\n",
    "acquisitions = Acquisitions(geometry=geometry, grid=grid)\n",
    "acquisitions.add(shot)"
   ]
  },
  {
   "cell_type": "markdown",
   "id": "champion-advancement",
   "metadata": {},
   "source": [
    "## Problem\n",
    "\n",
    "All components of the problem definition can be stored in a `stride.Problem` object, which structures them in a single, common entity."
   ]
  },
  {
   "cell_type": "code",
   "execution_count": 5,
   "id": "dominant-apartment",
   "metadata": {},
   "outputs": [],
   "source": [
    "from stride import Problem\n",
    "\n",
    "problem = Problem(name=\"example\", grid=grid)"
   ]
  },
  {
   "cell_type": "markdown",
   "id": "fluid-apache",
   "metadata": {},
   "source": [
    "By default, the `problem` object contains a medium under `problem.medium`, transducers and geoemtry under `problem.transducers` and `problem.geometry`, and an acquisition sequence under `problem.acquisitions`."
   ]
  },
  {
   "cell_type": "code",
   "execution_count": null,
   "id": "massive-exhaust",
   "metadata": {},
   "outputs": [],
   "source": []
  }
 ],
 "metadata": {
  "kernelspec": {
   "display_name": "Python 3 (ipykernel)",
   "language": "python",
   "name": "python3"
  },
  "language_info": {
   "codemirror_mode": {
    "name": "ipython",
    "version": 3
   },
   "file_extension": ".py",
   "mimetype": "text/x-python",
   "name": "python",
   "nbconvert_exporter": "python",
   "pygments_lexer": "ipython3",
   "version": "3.11.8"
  }
 },
 "nbformat": 4,
 "nbformat_minor": 5
}
